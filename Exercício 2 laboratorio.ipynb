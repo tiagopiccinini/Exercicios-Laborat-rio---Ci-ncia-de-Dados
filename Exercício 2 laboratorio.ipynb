{
 "cells": [
  {
   "cell_type": "markdown",
   "id": "4bdcddf6-459f-4119-8c6f-4bc100569808",
   "metadata": {},
   "source": [
    "## Exercício 1"
   ]
  },
  {
   "cell_type": "code",
   "execution_count": 2,
   "id": "6e438be3-7040-4e04-a6e9-f7c7eaaccd65",
   "metadata": {
    "tags": []
   },
   "outputs": [],
   "source": [
    "# Crie uma variável chamada nome e atribua o seu nome a ela.\n",
    "\n",
    "nome = \"Tiago\""
   ]
  },
  {
   "cell_type": "code",
   "execution_count": 3,
   "id": "7538ce5d-1c9d-4e77-bf44-5c1e1072f108",
   "metadata": {
    "tags": []
   },
   "outputs": [],
   "source": [
    "# Crie uma variável chamada idade e atribua sua idade a ela.\n",
    "\n",
    "idade = 21"
   ]
  },
  {
   "cell_type": "code",
   "execution_count": 6,
   "id": "9458653d-d60f-410c-b22e-e41550607cbb",
   "metadata": {
    "tags": []
   },
   "outputs": [],
   "source": [
    "# Crie uma variável chamada altura e atribua sua altura (em metros) a ela.\n",
    "\n",
    "altura = 1.74"
   ]
  },
  {
   "cell_type": "code",
   "execution_count": 7,
   "id": "614a4430-a492-4c9b-9e38-386625c6e68a",
   "metadata": {
    "tags": []
   },
   "outputs": [
    {
     "name": "stdout",
     "output_type": "stream",
     "text": [
      "Meu nome é Tiago, tenho 21 anos e minha altura é 1.74 metros.\n"
     ]
    }
   ],
   "source": [
    "# Mostre na tela a concatenação das informações: \"Meu nome é [nome], tenho [idade] anos e minha altura é [altura] metros.\"\n",
    "\n",
    "print(\"Meu nome é {a}, tenho {b} anos e minha altura é {c} metros.\".format(a = nome, b = idade, c = altura))"
   ]
  },
  {
   "cell_type": "markdown",
   "id": "e7be5ba1-8537-4bd4-a4a1-19268bc70cde",
   "metadata": {},
   "source": [
    "## Exercício 2"
   ]
  },
  {
   "cell_type": "code",
   "execution_count": 8,
   "id": "c3570c6e-ad8f-4b6c-b259-12d2115bf370",
   "metadata": {
    "tags": []
   },
   "outputs": [],
   "source": [
    "# Crie uma variável chamada frase e atribua a seguinte frase a ela:\n",
    "# \"Python é uma linguagem de programação muito poderosa.\"\n",
    "\n",
    "frase = \"Python é uma linguagem de programação muito poderosa.\""
   ]
  },
  {
   "cell_type": "code",
   "execution_count": 9,
   "id": "7b75e55c-11cc-438d-8956-7da8c978719f",
   "metadata": {
    "tags": []
   },
   "outputs": [
    {
     "data": {
      "text/plain": [
       "'PYTHON É UMA LINGUAGEM DE PROGRAMAÇÃO MUITO PODEROSA.'"
      ]
     },
     "execution_count": 9,
     "metadata": {},
     "output_type": "execute_result"
    }
   ],
   "source": [
    "# Utilize o método .upper() para transformar toda a frase em maiúsculas e imprima o resultado.\n",
    "\n",
    "frase.upper()"
   ]
  },
  {
   "cell_type": "code",
   "execution_count": 10,
   "id": "9b05362c-5136-4878-a463-1143cbaa5e71",
   "metadata": {
    "tags": []
   },
   "outputs": [
    {
     "data": {
      "text/plain": [
       "'python é uma linguagem de programação muito poderosa.'"
      ]
     },
     "execution_count": 10,
     "metadata": {},
     "output_type": "execute_result"
    }
   ],
   "source": [
    "# Utilize o método .lower() para transformar toda a frase em minúsculas e imprima o resultado.\n",
    "\n",
    "frase.lower()"
   ]
  },
  {
   "cell_type": "code",
   "execution_count": 12,
   "id": "8cd19990-5501-4e6e-be86-eed170de2486",
   "metadata": {
    "tags": []
   },
   "outputs": [
    {
     "data": {
      "text/plain": [
       "'Python é uma linguagem de programação extremamente poderosa.'"
      ]
     },
     "execution_count": 12,
     "metadata": {},
     "output_type": "execute_result"
    }
   ],
   "source": [
    "# Utilize o método .replace() para substituir a palavra \"muito\" por \"extremamente\". Imprima o resultado.\n",
    "\n",
    "frase.replace(\"muito\", \"extremamente\")"
   ]
  },
  {
   "cell_type": "code",
   "execution_count": 15,
   "id": "d55febc6-7654-4940-bdf8-462ad5f1333d",
   "metadata": {
    "tags": []
   },
   "outputs": [
    {
     "data": {
      "text/plain": [
       "['Python', 'é', 'uma', 'linguagem', 'de', 'programação', 'muito', 'poderosa.']"
      ]
     },
     "execution_count": 15,
     "metadata": {},
     "output_type": "execute_result"
    }
   ],
   "source": [
    "# Utilize o método .split() para dividir a frase em palavras e imprima o resultado como uma lista\n",
    "\n",
    "frase.split()"
   ]
  },
  {
   "cell_type": "markdown",
   "id": "4352f5d9-0ad8-4c6f-8e3e-406fd7e8485b",
   "metadata": {},
   "source": [
    "## Exercício 3"
   ]
  },
  {
   "cell_type": "code",
   "execution_count": 30,
   "id": "4c5e3a86-ba82-4843-921b-bdfdbf6a1964",
   "metadata": {
    "tags": []
   },
   "outputs": [],
   "source": [
    "# Crie uma lista chamada frutas contendo os seguintes itens: \"maçã\", \"banana\", \"laranja\", \"uva\", \"abacaxi\"\n",
    "\n",
    "frutas = [\"maçã\", \"banana\", \"laranja\", \"uva\", \"abacaxi\"]"
   ]
  },
  {
   "cell_type": "code",
   "execution_count": 29,
   "id": "e6941089-ff41-4e57-a89d-734c3837aade",
   "metadata": {
    "tags": []
   },
   "outputs": [
    {
     "data": {
      "text/plain": [
       "['maçã', 'banana', 'laranja', 'uva', 'abacaxi', 'manga', 'manga']"
      ]
     },
     "execution_count": 29,
     "metadata": {},
     "output_type": "execute_result"
    }
   ],
   "source": [
    "# Imprima a lista frutas\n",
    "\n",
    "frutas"
   ]
  },
  {
   "cell_type": "code",
   "execution_count": 31,
   "id": "db59b363-69d6-41e6-9b88-0d553358068b",
   "metadata": {
    "tags": []
   },
   "outputs": [
    {
     "data": {
      "text/plain": [
       "['maçã', 'banana', 'laranja', 'uva', 'abacaxi', 'manga']"
      ]
     },
     "execution_count": 31,
     "metadata": {},
     "output_type": "execute_result"
    }
   ],
   "source": [
    "# Adicione o item \"manga\" à lista frutas utilizando o método .append() e imprima a lista novamente\n",
    "\n",
    "frutas.append(\"manga\")\n",
    "frutas"
   ]
  },
  {
   "cell_type": "code",
   "execution_count": 32,
   "id": "3123be72-9bed-4606-b543-e34b69c79450",
   "metadata": {
    "tags": []
   },
   "outputs": [
    {
     "data": {
      "text/plain": [
       "['maçã', 'banana', 'uva', 'abacaxi', 'manga']"
      ]
     },
     "execution_count": 32,
     "metadata": {},
     "output_type": "execute_result"
    }
   ],
   "source": [
    "# Remova o item \"laranja\" da lista frutas utilizando o método .remove() e imprima a lista.\n",
    "\n",
    "frutas.remove(\"laranja\")\n",
    "frutas"
   ]
  },
  {
   "cell_type": "code",
   "execution_count": 35,
   "id": "eb7f24f4-15d0-4cea-b421-371de39ee392",
   "metadata": {
    "tags": []
   },
   "outputs": [
    {
     "data": {
      "text/plain": [
       "'uva'"
      ]
     },
     "execution_count": 35,
     "metadata": {},
     "output_type": "execute_result"
    }
   ],
   "source": [
    "# Acesse o terceiro item da lista frutas (lembrando que as listas começam em 0) e imprima-o.\n",
    "\n",
    "frutas[2]"
   ]
  },
  {
   "cell_type": "code",
   "execution_count": 37,
   "id": "ec6d92fc-bc3d-4163-bbd4-5a5a1a572ef6",
   "metadata": {
    "tags": []
   },
   "outputs": [
    {
     "data": {
      "text/plain": [
       "['abacaxi', 'banana', 'manga', 'maçã', 'uva']"
      ]
     },
     "execution_count": 37,
     "metadata": {},
     "output_type": "execute_result"
    }
   ],
   "source": [
    "# Ordene a lista frutas em ordem alfabética utilizando o método .sort() e imprima a lista.\n",
    "\n",
    "frutas.sort()\n",
    "frutas"
   ]
  },
  {
   "cell_type": "code",
   "execution_count": 39,
   "id": "709c8bd3-d21b-4f20-9d2e-89f891821b7f",
   "metadata": {
    "tags": []
   },
   "outputs": [
    {
     "data": {
      "text/plain": [
       "32"
      ]
     },
     "execution_count": 39,
     "metadata": {},
     "output_type": "execute_result"
    }
   ],
   "source": [
    "# Crie uma lista chamada numeros com os valores [10, 5, 8, 3, 6]. Utilize a função sum() para calcular a soma de todos os elementos dessa lista e imprima o resultado.\n",
    "\n",
    "numeros = [10, 5, 8, 3, 6]\n",
    "sum(numeros)"
   ]
  },
  {
   "cell_type": "markdown",
   "id": "e12fe31a-7e94-4d25-b2d0-4ab41a6dfc83",
   "metadata": {},
   "source": [
    "## Exercício 6"
   ]
  },
  {
   "cell_type": "code",
   "execution_count": 47,
   "id": "0e569e5a-9d61-456c-815d-1aab3ba5b06d",
   "metadata": {
    "tags": []
   },
   "outputs": [
    {
     "name": "stdin",
     "output_type": "stream",
     "text": [
      "Digite seu peso (em kg):  56\n",
      "Digite sua altura (em metros):  1.74\n"
     ]
    },
    {
     "name": "stdout",
     "output_type": "stream",
     "text": [
      "Seu IMC é: 18.50\n"
     ]
    }
   ],
   "source": [
    "# Crie um programa que receba a altura e o peso de uma pessoa e imprima seu IMC.\n",
    "\n",
    "a = float(input(\"Digite seu peso (em kg): \"))\n",
    "b = float(input(\"Digite sua altura (em metros): \"))\n",
    "\n",
    "imc = a / (b ** 2)\n",
    "\n",
    "print(f\"Seu IMC é: {imc:.2f}\")"
   ]
  },
  {
   "cell_type": "markdown",
   "id": "6505a5f5-f2aa-41b3-a9dd-f7a2ddb8fcb3",
   "metadata": {},
   "source": [
    "## Exercício 7"
   ]
  },
  {
   "cell_type": "code",
   "execution_count": 5,
   "id": "4517a34b-d62a-4669-8cc5-2d26da9fa5c0",
   "metadata": {
    "tags": []
   },
   "outputs": [
    {
     "name": "stdout",
     "output_type": "stream",
     "text": [
      "Qual o seu nome completo? \n"
     ]
    },
    {
     "name": "stdin",
     "output_type": "stream",
     "text": [
      " Tiago Piccinini Viana\n"
     ]
    },
    {
     "name": "stdout",
     "output_type": "stream",
     "text": [
      "Olá, Tiago\n"
     ]
    }
   ],
   "source": [
    "# Escreva um programa que pergunte o nome completo do usuário e o cumprimente pelo primeiro nome.\n",
    "\n",
    "print(\"Qual o seu nome completo? \")\n",
    "nome_completo = input()\n",
    "\n",
    "primeiro_nome = nome_completo.split()[0]\n",
    "print(\"Olá,\", primeiro_nome)"
   ]
  },
  {
   "cell_type": "markdown",
   "id": "9dce2f8b-cd09-413a-978e-0032670440d0",
   "metadata": {},
   "source": [
    "## Exercício 8"
   ]
  },
  {
   "cell_type": "code",
   "execution_count": 8,
   "id": "e5c2ce64-123f-4887-84a3-e79e6d7a1d67",
   "metadata": {
    "tags": []
   },
   "outputs": [
    {
     "name": "stdout",
     "output_type": "stream",
     "text": [
      "Qual o seu email? \n"
     ]
    },
    {
     "name": "stdin",
     "output_type": "stream",
     "text": [
      " tiagopiccininiviana@gmail.com\n"
     ]
    },
    {
     "name": "stdout",
     "output_type": "stream",
     "text": [
      "O domínio é: gmail.com\n"
     ]
    }
   ],
   "source": [
    "# Escreva um código que extraia o domínio de um e-mail informado.\n",
    "\n",
    "def extrair_dominio(email):\n",
    "    return email.split('@')[1]\n",
    "\n",
    "print(\"Qual o seu email? \")\n",
    "email = input()\n",
    "\n",
    "dominio = extrair_dominio(email)\n",
    "print(\"O domínio é:\", dominio)"
   ]
  }
 ],
 "metadata": {
  "kernelspec": {
   "display_name": "Python 3 (ipykernel)",
   "language": "python",
   "name": "python3"
  },
  "language_info": {
   "codemirror_mode": {
    "name": "ipython",
    "version": 3
   },
   "file_extension": ".py",
   "mimetype": "text/x-python",
   "name": "python",
   "nbconvert_exporter": "python",
   "pygments_lexer": "ipython3",
   "version": "3.11.5"
  }
 },
 "nbformat": 4,
 "nbformat_minor": 5
}
